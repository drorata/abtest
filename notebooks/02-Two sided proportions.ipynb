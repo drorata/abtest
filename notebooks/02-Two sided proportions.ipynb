{
 "cells": [
  {
   "cell_type": "code",
   "execution_count": 1,
   "metadata": {},
   "outputs": [],
   "source": [
    "%load_ext autoreload\n",
    "%autoreload 2\n",
    "\n",
    "# Needed imports\n",
    "from abtest import utils # local utils; see utils.py\n",
    "import pandas as pd\n",
    "import numpy as np\n",
    "from statsmodels.stats import proportion as ssp\n",
    "from scipy import stats\n",
    "\n",
    "%matplotlib inline\n",
    "from matplotlib import pyplot as plt\n",
    "plt.style.use('ggplot')\n",
    "import seaborn as sns\n",
    "\n",
    "# Some settings for the notebook\n",
    "%precision 5\n",
    "np.set_printoptions(precision=4)\n",
    "pd.set_option('precision',4)"
   ]
  },
  {
   "cell_type": "markdown",
   "metadata": {},
   "source": [
    "The focus of this section is on the following case.\n",
    "The experiment consists of two groups: control and variant.\n",
    "Each user can either convert or not and the metric of interest is the conversion rate.\n",
    "Set the null and alternative hypotheses as follows:\n",
    "\n",
    "$$\\begin{align}\n",
    "H_0:\\quad & p_c = p_v \\\\\n",
    "H_a:\\quad & p_c \\neq p_v\n",
    "\\end{align}$$\n",
    "\n",
    "As before, you can start with a simulation of an experiment."
   ]
  },
  {
   "cell_type": "code",
   "execution_count": 2,
   "metadata": {},
   "outputs": [
    {
     "data": {
      "text/html": [
       "<div>\n",
       "<style scoped>\n",
       "    .dataframe tbody tr th:only-of-type {\n",
       "        vertical-align: middle;\n",
       "    }\n",
       "\n",
       "    .dataframe tbody tr th {\n",
       "        vertical-align: top;\n",
       "    }\n",
       "\n",
       "    .dataframe thead th {\n",
       "        text-align: right;\n",
       "    }\n",
       "</style>\n",
       "<table border=\"1\" class=\"dataframe\">\n",
       "  <thead>\n",
       "    <tr style=\"text-align: right;\">\n",
       "      <th></th>\n",
       "      <th>Converted</th>\n",
       "      <th>Visited</th>\n",
       "      <th>CR_pct</th>\n",
       "    </tr>\n",
       "  </thead>\n",
       "  <tbody>\n",
       "    <tr>\n",
       "      <th>Control</th>\n",
       "      <td>3090</td>\n",
       "      <td>10000</td>\n",
       "      <td>30.90</td>\n",
       "    </tr>\n",
       "    <tr>\n",
       "      <th>Variant</th>\n",
       "      <td>2952</td>\n",
       "      <td>10000</td>\n",
       "      <td>29.52</td>\n",
       "    </tr>\n",
       "  </tbody>\n",
       "</table>\n",
       "</div>"
      ],
      "text/plain": [
       "         Converted  Visited  CR_pct\n",
       "Control       3090    10000   30.90\n",
       "Variant       2952    10000   29.52"
      ]
     },
     "execution_count": 2,
     "metadata": {},
     "output_type": "execute_result"
    }
   ],
   "source": [
    "exp = utils.generate_experiment(seed=43, N=10000, control_cr=0.3, variant_cr=0.3)\n",
    "exp"
   ]
  },
  {
   "cell_type": "markdown",
   "metadata": {},
   "source": [
    "The question you will answer in this section is:\n",
    "> Is the difference witnessed between the proportions \"real\" or just due to randomness?\n",
    "\n",
    "This is the time to introduce the *two-sided $Z$-test*\n",
    "\n",
    "## Two-sided $Z$-test\n",
    "\n",
    "Recall that $p_c$ is the conversion rate (or proportion) for the control group and $p_v$ is the one for the variant; both are, in reality, known!\n",
    "Next, $\\hat{p}_c$ and $\\hat{p}_v$ are the rates witnessed in the experiment.\n",
    "In the table above they are given as percentages in the column `CR_pct`.\n",
    "\n",
    "### By hand\n",
    "\n",
    "Under the hood, for each group you obtain a vector $c = (c_1, c_2, \\ldots, c_N)$ and $v = (v_1, v_2, \\ldots, v_N)$ where $c_i, v_i \\in \\{0,1\\}$ and $N$ is the number of visitors in the group (here assumed to be the same).\n",
    "From this, we have that:\n",
    "\n",
    "$$\n",
    "\\begin{align}\n",
    "\\hat{p}_c = \\frac{\\sum c_i}{N} \\\\\n",
    "\\hat{p}_v = \\frac{\\sum v_i}{N}\n",
    "\\end{align}\n",
    "$$\n",
    "\n",
    "In other words, the witnessed proportions are means of the values observed.\n",
    "Therefore, by the [central limit theorem](https://en.wikipedia.org/wiki/Central_limit_theorem), both are approximately normally distributed.\n",
    "Thus also their difference $\\hat{p}_c - \\hat{p}_v$.\n",
    "In this case, the following  $z$-statistic is to be used [[ref]](https://onlinecourses.science.psu.edu/stat414/node/268)\n",
    "\n",
    "$$z = \\frac{\\hat{p}_c - \\hat{p}_v}{\\sqrt{\\frac{\\hat{p}(1-\\hat{p})}{c_t} + \\frac{\\hat{p}(1-\\hat{p})}{v_t} }} $$\n",
    "\n",
    "Where\n",
    "\n",
    "$$\\hat{p} = \\frac{c_t \\hat{p}_c + v_t \\hat{p}_v}{c_t + v_t}$$ \n",
    "\n",
    "is the *pooled* proportion where $c_t$ and $v_t$ are the sample sizes of the control and variant groups, respectively.\n",
    "You can find the above formula implemented in `utils.manual_z_score`; and you can compute the statistic for the data generated for the experiment above.\n",
    "\n",
    "Note that in this computation the *pooled* version of the variant is used. An un-pooled computation can also be used, but it is less recommended [[ref]](https://stats.stackexchange.com/a/17205/54320)."
   ]
  },
  {
   "cell_type": "code",
   "execution_count": 3,
   "metadata": {},
   "outputs": [
    {
     "data": {
      "text/plain": [
       "2.12516"
      ]
     },
     "execution_count": 3,
     "metadata": {},
     "output_type": "execute_result"
    }
   ],
   "source": [
    "z_score = utils.manual_z_score(exp)\n",
    "z_score"
   ]
  },
  {
   "cell_type": "markdown",
   "metadata": {},
   "source": [
    "It is time to better understand what this score means.\n",
    "The obtained $Z$-score indicates where the results of the experiment lies on the normal distribution:"
   ]
  },
  {
   "cell_type": "code",
   "execution_count": 4,
   "metadata": {},
   "outputs": [
    {
     "data": {
      "image/png": "[encoded data removed]",
      "text/plain": [
       "<matplotlib.figure.Figure at 0x114da7438>"
      ]
     },
     "metadata": {},
     "output_type": "display_data"
    }
   ],
   "source": [
    "x = np.arange(-5, 5, step=0.1)\n",
    "z_score = utils.manual_z_score(exp)\n",
    "x = np.append(x, [-z_score, z_score])\n",
    "x = np.sort(x)\n",
    "y = stats.norm.pdf(x)\n",
    "\n",
    "fig, ax = plt.subplots(1, 1)\n",
    "ax.plot(x , y)\n",
    "ax.fill_between(x[x <= -abs(z_score)], \n",
    "                y1=y[x <= -abs(z_score)], alpha=0.5, facecolor='blue');\n",
    "ax.fill_between(x[x >= abs(z_score)], \n",
    "                y1=y[x >= abs(z_score)], alpha=0.5, facecolor='blue')\n",
    "plt.axvline(z_score, color='gray')\n",
    "plt.axvline(-z_score, color='gray')\n",
    "plt.text(z_score + 0.1, 0.2, '$|Z|$', rotation=90)\n",
    "plt.text(-z_score + 0.1, 0.2, '$-|Z|$', rotation=90)\n",
    "plt.title('Normal distribution with $\\mu = 0$ and $\\sigma^2 = 1$');"
   ]
  },
  {
   "cell_type": "markdown",
   "metadata": {},
   "source": [
    "Recall that the question that has to be answered is:\n",
    "> What is the likelihood to witness even more extreme results than those witnessed in the experiment?\n",
    "\n",
    "This can be answered by computing the area to the left of $-|Z|$ and to the right of $|Z|$ (shaded in the plot above). \n",
    "By symmetry it is enough to compute the area to the left of $-|Z|$ and multiply the result by $2$.\n",
    "The [cumulative distribution function (cdf)](https://en.wikipedia.org/wiki/Cumulative_distribution_function) of the normal distribution can be used:"
   ]
  },
  {
   "cell_type": "code",
   "execution_count": 5,
   "metadata": {},
   "outputs": [
    {
     "data": {
      "text/plain": [
       "0.03357"
      ]
     },
     "execution_count": 5,
     "metadata": {},
     "output_type": "execute_result"
    }
   ],
   "source": [
    "2 * stats.norm.cdf(-abs(z_score))"
   ]
  },
  {
   "cell_type": "markdown",
   "metadata": {},
   "source": [
    "Say hello to the mighty $p$-value!\n",
    "This value tells you how likely is it to witness even more extreme difference given the null hypothesis holds.\n",
    "Recall, that $H_0$ is that the two proportions are the same.\n",
    "You can now convince yourself that this is indeed the meaning of the $p$-value.\n",
    "Do so by running a simulation: run $M$ identical experiments and check in how many of them you witness more extreme results."
   ]
  },
  {
   "cell_type": "code",
   "execution_count": 6,
   "metadata": {},
   "outputs": [
    {
     "name": "stdout",
     "output_type": "stream",
     "text": [
      "In ~3.5% of the simulations the difference between the proportions\n",
      "is at least 0.014 (the one in the base experiment)\n"
     ]
    }
   ],
   "source": [
    "M = 1000\n",
    "N = 10000\n",
    "base_cr_diff = abs((exp.Converted / exp.Visited).diff()[-1])\n",
    "np.random.seed(1492)\n",
    "seeds = np.random.randint(0, 2**32-1, size=(M))\n",
    "control_cr = 0.3 # 30% \n",
    "variant_cr = 0.3 # 30%\n",
    "experiments = [\n",
    "    utils.generate_experiment(\n",
    "        seed=seed, N=N, control_cr=control_cr, variant_cr=variant_cr\n",
    "    ) for seed in seeds]\n",
    "cr_diffs = pd.Series([(exp.Converted / exp.Visited).diff()[-1] for exp in experiments])\n",
    "\n",
    "print(\n",
    "    \"In ~{}% of the simulations the difference between the proportions\\n\"\n",
    "    \"is at least {:03.3f} (the one in the base experiment)\".format(\n",
    "        np.round(100 * np.sum(np.abs(cr_diffs) > base_cr_diff) / M, decimals=2),\n",
    "        base_cr_diff\n",
    "    ))"
   ]
  },
  {
   "cell_type": "markdown",
   "metadata": {},
   "source": [
    "#### Summary\n",
    "\n",
    "You obtained the results of a (simulated) experiment (with random seed $43$) where the underlaying proportions are predefined.\n",
    "Due to pure randomness you witness a difference between the conversion rates which might be considered big: \n",
    "$$\n",
    "100 \\cdot \\frac{30.90 - 29.52}{29.52} = 4.675\\%\n",
    "$$\n",
    "\n",
    "But is it really that big? If you had ran more experiments, what is the likelihood that you would witness an even bigger difference?\n",
    "The $p$-value as computed above, answers this very question.\n",
    "It is now a question of interpretation; can you live peacefully knowing that this extremity is to be expected in $\\sim 3.38\\%$ of the cases?\n",
    "In all other cases the difference is smaller!\n",
    "Are you taking a risk by deciding based on this finding?\n",
    "\n",
    "Later on you will learn how to better evaluate the validity (or *power*) of the test.\n",
    "You will also learn how to assess the results of such an A/B test using a Bayesian approach."
   ]
  },
  {
   "cell_type": "markdown",
   "metadata": {},
   "source": [
    "### The Python way\n",
    "\n",
    "Now, once you hopefully have deeper understanding of the meaning of the $p$-value, you should know how to easily compute it.\n",
    "The easiest way is to use [`statsmodels.stats.proportions.proportions_ztest`](http://www.statsmodels.org/dev/generated/statsmodels.stats.proportion.proportions_ztest.html):"
   ]
  },
  {
   "cell_type": "code",
   "execution_count": 7,
   "metadata": {},
   "outputs": [
    {
     "name": "stdout",
     "output_type": "stream",
     "text": [
      "z-score = 2.125162\n",
      "p-value = 0.033573\n"
     ]
    }
   ],
   "source": [
    "# ssp.proportions_ztest returns a tuple contaiing two values\n",
    "res_ztest = ssp.proportions_ztest(exp.Converted, exp.Visited, alternative='two-sided')\n",
    "print(\"z-score = %f\" % res_ztest[0])\n",
    "print(\"p-value = %f\" % res_ztest[1])"
   ]
  },
  {
   "cell_type": "markdown",
   "metadata": {},
   "source": [
    "The values above are exactly the $Z$-score and the $p$-value as we computed by hand above.\n",
    "At this point it is worthy to mention also the $\\chi^2$-test which is implemented in [`scipy.stats.chi2_contingency`](https://docs.scipy.org/doc/scipy-0.15.1/reference/generated/scipy.stats.chi2_contingency.html).\n",
    "For this to work, the aggregation of the data should be a little altered:"
   ]
  },
  {
   "cell_type": "code",
   "execution_count": 8,
   "metadata": {},
   "outputs": [
    {
     "name": "stdout",
     "output_type": "stream",
     "text": [
      "z-score = 4.516315\n",
      "p-value = 0.033573\n"
     ]
    }
   ],
   "source": [
    "# In this case the function returns also the number of degrees of freedom and \n",
    "# the expected frequencies\n",
    "res_chi2 = stats.contingency.chi2_contingency(\n",
    "    pd.concat([exp.Converted, exp.Visited - exp.Converted], axis=1), \n",
    "    correction=False) # Keeping the default True would yield different resutls\n",
    "                      # due to the Yates’ correction\n",
    "print(\"z-score = %f\" % res_chi2[0])\n",
    "print(\"p-value = %f\" % res_chi2[1])"
   ]
  },
  {
   "cell_type": "markdown",
   "metadata": {},
   "source": [
    "You should notice that this approach yields the *same* $p$-value but a different score.\n",
    "The math behind this is beyond the scope of this post."
   ]
  }
 ],
 "metadata": {
  "kernelspec": {
   "display_name": "Python [conda env:abtest]",
   "language": "python",
   "name": "conda-env-abtest-py"
  },
  "language_info": {
   "codemirror_mode": {
    "name": "ipython",
    "version": 3
   },
   "file_extension": ".py",
   "mimetype": "text/x-python",
   "name": "python",
   "nbconvert_exporter": "python",
   "pygments_lexer": "ipython3",
   "version": "3.6.4"
  }
 },
 "nbformat": 4,
 "nbformat_minor": 2
}
