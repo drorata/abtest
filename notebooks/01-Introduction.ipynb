{
 "cells": [
  {
   "cell_type": "code",
   "execution_count": 1,
   "metadata": {},
   "outputs": [],
   "source": [
    "%load_ext autoreload\n",
    "%autoreload 2\n",
    "\n",
    "# Needed imports\n",
    "from abtest import utils # local utils; see utils.py\n",
    "import pandas as pd\n",
    "import numpy as np\n",
    "\n",
    "%matplotlib inline\n",
    "from matplotlib import pyplot as plt\n",
    "plt.style.use('ggplot')\n",
    "import seaborn as sns\n",
    "\n",
    "# Some settings for the notebook\n",
    "%precision 5\n",
    "np.set_printoptions(precision=4)\n",
    "pd.set_option('precision',4)"
   ]
  },
  {
   "cell_type": "markdown",
   "metadata": {},
   "source": [
    "## Motivations\n",
    "\n",
    "In an A/B test we observe the behavior of the world (customers) given two different treatments.\n",
    "Common example is the case where two groups of users are shown two different variants of some web page and their reaction (e.g. subscription rate) is measured.\n",
    "Ultimately, the question is which variant performs better.\n",
    "In practice, normally you should assign a variant to each customer randomly, thus split your traffic.\n",
    "There are many subtle points and issues you should pay attention, but are skipped in this tutorial.\n",
    "Traditionally, the notions of *control* and *variant* are used where the former is the current implementation of the system and the latter is the new feature/change.\n",
    "\n",
    "First, to get better intuition, simulate $M$ identical experiments where each variant is shown to $N$ users."
   ]
  },
  {
   "cell_type": "code",
   "execution_count": 2,
   "metadata": {},
   "outputs": [],
   "source": [
    "M = 3000 # Number of experiments\n",
    "N = 2000 # Number of samples per experiment\n",
    "\n",
    "# For reproducibility, we set a seed which we use to generate seeds \n",
    "# for each simulation\n",
    "np.random.seed(42)\n",
    "# Generate M seeds, one for each experiment\n",
    "seeds = np.random.randint(0, 2**32-1, size=(M))"
   ]
  },
  {
   "cell_type": "markdown",
   "metadata": {},
   "source": [
    "In reality there are three possible case:\n",
    "\n",
    "* The variant and the control perform the same\n",
    "* The variant performs better than the control (i.e. you found an improvement)\n",
    "* The control performs better than the variant (i.e. you found a deterioration)\n",
    "\n",
    "The key problem is the following:\n",
    "\n",
    "> The sample for the variant and for the control groups will (almost) always yield one of the last two!\n",
    "\n",
    "This, in turn, raises the question how can you tell whether your variant had no influence or not, and if it did in which direction.\n",
    "In what follows, `control_cr` (or $p_c$) and `variant_cr` (or $p_v$) are the *conversion rates* or *proportions* of the control and variant groups, respectively.\n",
    "From the A/B test, our aim is to learn something about these two numbers.\n",
    "Start with the same proportion for both groups; that is simulate the case where the variant had no influence.\n",
    "\n",
    "\n",
    "*Note*: The notions \"proportion\" and \"conversion rate (CR)\" are used interchangeably."
   ]
  },
  {
   "cell_type": "code",
   "execution_count": 3,
   "metadata": {},
   "outputs": [],
   "source": [
    "control_cr = 0.3 # 30% \n",
    "variant_cr = 0.3 # 30%\n",
    "experiments = [\n",
    "    utils.generate_experiment(\n",
    "        seed=seed, N=N, control_cr=control_cr, variant_cr=variant_cr\n",
    "    ) for seed in seeds]"
   ]
  },
  {
   "cell_type": "markdown",
   "metadata": {},
   "source": [
    "For each simulation, compute the signed difference between $p_c$ and $p_v$:"
   ]
  },
  {
   "cell_type": "code",
   "execution_count": 4,
   "metadata": {},
   "outputs": [
    {
     "data": {
      "image/png": "[encoded data removed]",
      "text/plain": [
       "<matplotlib.figure.Figure at 0x10e377320>"
      ]
     },
     "metadata": {},
     "output_type": "display_data"
    }
   ],
   "source": [
    "cr_diffs = pd.Series([exp.CR_pct.diff()[-1] for exp in experiments])\n",
    "sns.distplot(cr_diffs, bins=20, kde=True, rug=False)\n",
    "plt.title(\"Distribution of proportions differences\")\n",
    "plt.xlabel('Difference')\n",
    "plt.ylabel('%');"
   ]
  },
  {
   "cell_type": "markdown",
   "metadata": {},
   "source": [
    "It comes as no surprise: the difference between the proportions is hardly every zero. \n",
    "Following computation counts in how many simulations $$\\|p_c - p_v\\| < 0.05$$"
   ]
  },
  {
   "cell_type": "code",
   "execution_count": 5,
   "metadata": {},
   "outputs": [
    {
     "data": {
      "text/plain": [
       "0.02100"
      ]
     },
     "execution_count": 5,
     "metadata": {},
     "output_type": "execute_result"
    }
   ],
   "source": [
    "portion_almost_zero_diff = np.abs(cr_diffs)[np.abs(cr_diffs) < 0.05].shape[0] / M\n",
    "portion_almost_zero_diff"
   ]
  },
  {
   "cell_type": "markdown",
   "metadata": {
    "variables": {
     "portion_almost_zero_diff": "0.02100"
    }
   },
   "source": [
    "For only {{portion_almost_zero_diff}} of the experiments the difference between $p_c$ and $p_v$ that you witness is smaller than $0.05$.\n",
    "In other words, for about 98% of the experiments you will witness a larger difference; **even though there is no real one!!**\n",
    "So, merely comparing the results of a single test doesn't tell you anything.\n",
    "You will need to employ a more powerful approach.\n",
    "This approach is called *hypothesis testing*.\n",
    "\n",
    "## Defining the hypothesis - two sided case\n",
    "\n",
    "Assume you want to first know whether the real proportion in the variant set, $p_v$, is different from the one of the control.\n",
    "This can, and should, be rigorously defined as follow\n",
    "\n",
    "$$\\begin{align}\n",
    "H_0:\\quad & p_c = p_v \\\\\n",
    "H_a:\\quad & p_c \\neq p_v\n",
    "\\end{align}$$\n",
    "\n",
    "$H_0$ and $H_a$ should be read as the null and alternative hypotheses.\n",
    "As you noticed in the examples above, it is almost certain that the proportion you will witness will not be equal.\n",
    "However, in this settings, you can ask yourself the following question:\n",
    "\n",
    "> How likely is it to witness even more extreme results? How likely is it that in another experiment you would have $\\bar{p}_c$ and $\\bar{p}_v$ such that $$\\|\\bar{p}_c - \\bar{p}_v \\| \\geq \\|p_c - p_v\\|$$\n",
    "> assuming that $H_0$ holds\n",
    "\n",
    "Here, $\\bar{p}_c$ and $\\bar{p}_v$ are the *observed* proportions of the control and variant groups, respectively.\n",
    "If you could compute this likelihood, and it would be extremely small, you would feel comfortable to *reject* the null hypothesis $H_0$ and accept the alternative one.\n",
    "To enhance the intuition, you can run a simulation.\n",
    "First, run a base experiment and record the difference between the proportions.\n",
    "Next, run $M$ more simulations and compare the differences between the proportions in each of the simulation and the base difference you noted.\n",
    "\n",
    "`base_exp` will hold the aggregated results of the base experiment.\n",
    "`base_cr_diff` will hold the absolute difference between the proportions observed in each group"
   ]
  },
  {
   "cell_type": "code",
   "execution_count": 6,
   "metadata": {},
   "outputs": [
    {
     "data": {
      "text/plain": [
       "1.60000"
      ]
     },
     "execution_count": 6,
     "metadata": {},
     "output_type": "execute_result"
    }
   ],
   "source": [
    "control_cr = 0.3 # 30% \n",
    "variant_cr = 0.3 # 30%\n",
    "base_exp = utils.generate_experiment(seed=1984, N=N, control_cr=control_cr, variant_cr=variant_cr)\n",
    "base_cr_diff = np.abs(base_exp.CR_pct.diff()[1])\n",
    "base_cr_diff"
   ]
  },
  {
   "cell_type": "markdown",
   "metadata": {},
   "source": [
    "Next, run $M$ more simulations and count in how many of them you witness a larger difference.\n",
    "**Note that in all runs you should assume that $H_0$ holds.**\n",
    "In practice, this means that `control_cr` and `variant_cr` should be the same."
   ]
  },
  {
   "cell_type": "code",
   "execution_count": 7,
   "metadata": {},
   "outputs": [
    {
     "name": "stdout",
     "output_type": "stream",
     "text": [
      "In ~26.47% of the simulation the difference between the proportions\n",
      "is at least 1.600 (the one in the base experiment)\n"
     ]
    }
   ],
   "source": [
    "np.random.seed(42)\n",
    "seeds = np.random.randint(0, 2**32-1, size=(M))\n",
    "control_cr = 0.3 # 30% \n",
    "variant_cr = 0.3 # 30%\n",
    "experiments = [\n",
    "    utils.generate_experiment(\n",
    "        seed=seed, N=N, control_cr=control_cr, variant_cr=variant_cr\n",
    "    ) for seed in seeds]\n",
    "cr_diffs = pd.Series([exp.CR_pct.diff()[-1] for exp in experiments])\n",
    "\n",
    "print(\n",
    "    \"In ~{}% of the simulation the difference between the proportions\\n\"\n",
    "    \"is at least {:03.3f} (the one in the base experiment)\".format(\n",
    "        np.round(100 * cr_diffs[np.abs(cr_diffs) > base_cr_diff].shape[0] / M, decimals=2),\n",
    "        base_cr_diff\n",
    "    ))"
   ]
  },
  {
   "cell_type": "markdown",
   "metadata": {},
   "source": [
    "For the random seed $42$, you can see that witnessing a difference of $1.6$ or larger between the proportions is to be expected in roughly $1/4$ of the cases.\n",
    "Not so extraordinary."
   ]
  },
  {
   "cell_type": "code",
   "execution_count": 8,
   "metadata": {},
   "outputs": [
    {
     "data": {
      "image/png": "[encoded data removed]",
      "text/plain": [
       "<matplotlib.figure.Figure at 0x10e3aa278>"
      ]
     },
     "metadata": {},
     "output_type": "display_data"
    }
   ],
   "source": [
    "ax = sns.distplot(cr_diffs, bins=20, kde=True, rug=False)\n",
    "x, y = ax.lines[0].get_data()\n",
    "mask = (x > base_cr_diff)\n",
    "x, y = x[mask], y[mask]\n",
    "ax.fill_between(x, y1=y, alpha=0.5, facecolor='blue')\n",
    "x, y = ax.lines[0].get_data()\n",
    "mask = (x < -base_cr_diff)\n",
    "x, y = x[mask], y[mask]\n",
    "ax.fill_between(x, y1=y, alpha=0.5, facecolor='blue')\n",
    "plt.axvline(base_cr_diff, color='gray')\n",
    "plt.axvline(-base_cr_diff, color='gray')\n",
    "plt.xlabel('Proportions differences');"
   ]
  },
  {
   "cell_type": "markdown",
   "metadata": {},
   "source": [
    "Now you should change the base experiment, in particular, take different proportions.\n",
    "This simulates a situation when the variant introduces a change in the proportion."
   ]
  },
  {
   "cell_type": "code",
   "execution_count": 9,
   "metadata": {},
   "outputs": [
    {
     "data": {
      "text/plain": [
       "3.65000"
      ]
     },
     "execution_count": 9,
     "metadata": {},
     "output_type": "execute_result"
    }
   ],
   "source": [
    "control_cr = 0.3 # 30% \n",
    "variant_cr = 0.32 # 32%\n",
    "base_exp_2 = utils.generate_experiment(seed=1984, N=N, control_cr=control_cr, variant_cr=variant_cr)\n",
    "base_2_cr_diff = np.abs(base_exp_2.CR_pct.diff()[1])\n",
    "base_2_cr_diff"
   ]
  },
  {
   "cell_type": "markdown",
   "metadata": {},
   "source": [
    "Now, have a look in how many cases you witness an even more extreme difference assuming the underlying proportions are the same."
   ]
  },
  {
   "cell_type": "code",
   "execution_count": 10,
   "metadata": {},
   "outputs": [
    {
     "name": "stdout",
     "output_type": "stream",
     "text": [
      "In ~1.03% of the simulation the difference between the proportions\n",
      "is at least 3.650 (the one in the base experiment)\n"
     ]
    },
    {
     "data": {
      "image/png": "[encoded data removed]",
      "text/plain": [
       "<matplotlib.figure.Figure at 0x10e478da0>"
      ]
     },
     "metadata": {},
     "output_type": "display_data"
    }
   ],
   "source": [
    "print(\n",
    "    \"In ~{}% of the simulation the difference between the proportions\\n\"\n",
    "    \"is at least {:03.3f} (the one in the base experiment)\".format(\n",
    "        np.round(100 * cr_diffs[np.abs(cr_diffs) > base_2_cr_diff].shape[0] / M, decimals=2),\n",
    "        base_2_cr_diff\n",
    "    ))\n",
    "\n",
    "ax = sns.distplot(cr_diffs, bins=20, kde=True, rug=False)\n",
    "x, y = ax.lines[0].get_data()\n",
    "mask = x > base_2_cr_diff\n",
    "x, y = x[mask], y[mask]\n",
    "ax.fill_between(x, y1=y, alpha=0.5, facecolor='blue')\n",
    "x, y = ax.lines[0].get_data()\n",
    "mask = x < -base_2_cr_diff\n",
    "x, y = x[mask], y[mask]\n",
    "ax.fill_between(x, y1=y, alpha=0.5, facecolor='blue')\n",
    "plt.axvline(base_2_cr_diff, color='gray')\n",
    "plt.axvline(-base_2_cr_diff, color='gray')\n",
    "plt.title('Proportions differences');"
   ]
  },
  {
   "cell_type": "markdown",
   "metadata": {},
   "source": [
    "In the next parts you will learn how to derive similar understandings but using merely the results from a *single* experiment."
   ]
  }
 ],
 "metadata": {
  "kernelspec": {
   "display_name": "Python [conda env:abtest]",
   "language": "python",
   "name": "conda-env-abtest-py"
  },
  "language_info": {
   "codemirror_mode": {
    "name": "ipython",
    "version": 3
   },
   "file_extension": ".py",
   "mimetype": "text/x-python",
   "name": "python",
   "nbconvert_exporter": "python",
   "pygments_lexer": "ipython3",
   "version": "3.6.4"
  }
 },
 "nbformat": 4,
 "nbformat_minor": 2
}
